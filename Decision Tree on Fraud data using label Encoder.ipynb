{
 "cells": [
  {
   "cell_type": "markdown",
   "id": "29b4b6e0",
   "metadata": {},
   "source": [
    "## 1. Importing important Libraries"
   ]
  },
  {
   "cell_type": "code",
   "execution_count": 1,
   "id": "52b55a70",
   "metadata": {},
   "outputs": [],
   "source": [
    "import pandas as pd\n",
    "import matplotlib.pyplot as plt"
   ]
  },
  {
   "cell_type": "markdown",
   "id": "fb244ab9",
   "metadata": {},
   "source": [
    "## 2.Importing data"
   ]
  },
  {
   "cell_type": "code",
   "execution_count": 2,
   "id": "a83143d0",
   "metadata": {},
   "outputs": [
    {
     "data": {
      "text/html": [
       "<div>\n",
       "<style scoped>\n",
       "    .dataframe tbody tr th:only-of-type {\n",
       "        vertical-align: middle;\n",
       "    }\n",
       "\n",
       "    .dataframe tbody tr th {\n",
       "        vertical-align: top;\n",
       "    }\n",
       "\n",
       "    .dataframe thead th {\n",
       "        text-align: right;\n",
       "    }\n",
       "</style>\n",
       "<table border=\"1\" class=\"dataframe\">\n",
       "  <thead>\n",
       "    <tr style=\"text-align: right;\">\n",
       "      <th></th>\n",
       "      <th>Undergrad</th>\n",
       "      <th>Marital.Status</th>\n",
       "      <th>Taxable.Income</th>\n",
       "      <th>City.Population</th>\n",
       "      <th>Work.Experience</th>\n",
       "      <th>Urban</th>\n",
       "    </tr>\n",
       "  </thead>\n",
       "  <tbody>\n",
       "    <tr>\n",
       "      <th>0</th>\n",
       "      <td>NO</td>\n",
       "      <td>Single</td>\n",
       "      <td>68833</td>\n",
       "      <td>50047</td>\n",
       "      <td>10</td>\n",
       "      <td>YES</td>\n",
       "    </tr>\n",
       "    <tr>\n",
       "      <th>1</th>\n",
       "      <td>YES</td>\n",
       "      <td>Divorced</td>\n",
       "      <td>33700</td>\n",
       "      <td>134075</td>\n",
       "      <td>18</td>\n",
       "      <td>YES</td>\n",
       "    </tr>\n",
       "    <tr>\n",
       "      <th>2</th>\n",
       "      <td>NO</td>\n",
       "      <td>Married</td>\n",
       "      <td>36925</td>\n",
       "      <td>160205</td>\n",
       "      <td>30</td>\n",
       "      <td>YES</td>\n",
       "    </tr>\n",
       "    <tr>\n",
       "      <th>3</th>\n",
       "      <td>YES</td>\n",
       "      <td>Single</td>\n",
       "      <td>50190</td>\n",
       "      <td>193264</td>\n",
       "      <td>15</td>\n",
       "      <td>YES</td>\n",
       "    </tr>\n",
       "    <tr>\n",
       "      <th>4</th>\n",
       "      <td>NO</td>\n",
       "      <td>Married</td>\n",
       "      <td>81002</td>\n",
       "      <td>27533</td>\n",
       "      <td>28</td>\n",
       "      <td>NO</td>\n",
       "    </tr>\n",
       "  </tbody>\n",
       "</table>\n",
       "</div>"
      ],
      "text/plain": [
       "  Undergrad Marital.Status  Taxable.Income  City.Population  Work.Experience  \\\n",
       "0        NO         Single           68833            50047               10   \n",
       "1       YES       Divorced           33700           134075               18   \n",
       "2        NO        Married           36925           160205               30   \n",
       "3       YES         Single           50190           193264               15   \n",
       "4        NO        Married           81002            27533               28   \n",
       "\n",
       "  Urban  \n",
       "0   YES  \n",
       "1   YES  \n",
       "2   YES  \n",
       "3   YES  \n",
       "4    NO  "
      ]
     },
     "execution_count": 2,
     "metadata": {},
     "output_type": "execute_result"
    }
   ],
   "source": [
    "data1 = pd.read_csv('Fraud_check.csv',sep=',')\n",
    "data1.head()"
   ]
  },
  {
   "cell_type": "markdown",
   "id": "16392d30",
   "metadata": {},
   "source": [
    "## 3. Understanding data"
   ]
  },
  {
   "cell_type": "code",
   "execution_count": 3,
   "id": "8eb9a267",
   "metadata": {},
   "outputs": [
    {
     "data": {
      "text/plain": [
       "(600, 6)"
      ]
     },
     "execution_count": 3,
     "metadata": {},
     "output_type": "execute_result"
    }
   ],
   "source": [
    "data1.shape"
   ]
  },
  {
   "cell_type": "code",
   "execution_count": 4,
   "id": "096520bf",
   "metadata": {},
   "outputs": [
    {
     "data": {
      "text/plain": [
       "Undergrad          0\n",
       "Marital.Status     0\n",
       "Taxable.Income     0\n",
       "City.Population    0\n",
       "Work.Experience    0\n",
       "Urban              0\n",
       "dtype: int64"
      ]
     },
     "execution_count": 4,
     "metadata": {},
     "output_type": "execute_result"
    }
   ],
   "source": [
    "data1.isnull().sum()"
   ]
  },
  {
   "cell_type": "code",
   "execution_count": 5,
   "id": "fe989c73",
   "metadata": {},
   "outputs": [
    {
     "data": {
      "text/plain": [
       "Undergrad          object\n",
       "Marital.Status     object\n",
       "Taxable.Income      int64\n",
       "City.Population     int64\n",
       "Work.Experience     int64\n",
       "Urban              object\n",
       "dtype: object"
      ]
     },
     "execution_count": 5,
     "metadata": {},
     "output_type": "execute_result"
    }
   ],
   "source": [
    "data1.dtypes"
   ]
  },
  {
   "cell_type": "markdown",
   "id": "b0c1735d",
   "metadata": {},
   "source": [
    "## 4. Data Preparation"
   ]
  },
  {
   "cell_type": "code",
   "execution_count": 6,
   "id": "a4f64121",
   "metadata": {},
   "outputs": [],
   "source": [
    "y = []\n",
    "for itr in data1['Taxable.Income']:\n",
    "    if itr <= 30000:\n",
    "        y.append('Risky')\n",
    "    else:\n",
    "        y.append('Good')\n",
    "data1['y'] = y"
   ]
  },
  {
   "cell_type": "code",
   "execution_count": 7,
   "id": "e3843197",
   "metadata": {},
   "outputs": [
    {
     "data": {
      "text/html": [
       "<div>\n",
       "<style scoped>\n",
       "    .dataframe tbody tr th:only-of-type {\n",
       "        vertical-align: middle;\n",
       "    }\n",
       "\n",
       "    .dataframe tbody tr th {\n",
       "        vertical-align: top;\n",
       "    }\n",
       "\n",
       "    .dataframe thead th {\n",
       "        text-align: right;\n",
       "    }\n",
       "</style>\n",
       "<table border=\"1\" class=\"dataframe\">\n",
       "  <thead>\n",
       "    <tr style=\"text-align: right;\">\n",
       "      <th></th>\n",
       "      <th>Undergrad</th>\n",
       "      <th>Marital.Status</th>\n",
       "      <th>Taxable.Income</th>\n",
       "      <th>City.Population</th>\n",
       "      <th>Work.Experience</th>\n",
       "      <th>Urban</th>\n",
       "      <th>y</th>\n",
       "    </tr>\n",
       "  </thead>\n",
       "  <tbody>\n",
       "    <tr>\n",
       "      <th>0</th>\n",
       "      <td>NO</td>\n",
       "      <td>Single</td>\n",
       "      <td>68833</td>\n",
       "      <td>50047</td>\n",
       "      <td>10</td>\n",
       "      <td>YES</td>\n",
       "      <td>Good</td>\n",
       "    </tr>\n",
       "    <tr>\n",
       "      <th>1</th>\n",
       "      <td>YES</td>\n",
       "      <td>Divorced</td>\n",
       "      <td>33700</td>\n",
       "      <td>134075</td>\n",
       "      <td>18</td>\n",
       "      <td>YES</td>\n",
       "      <td>Good</td>\n",
       "    </tr>\n",
       "    <tr>\n",
       "      <th>2</th>\n",
       "      <td>NO</td>\n",
       "      <td>Married</td>\n",
       "      <td>36925</td>\n",
       "      <td>160205</td>\n",
       "      <td>30</td>\n",
       "      <td>YES</td>\n",
       "      <td>Good</td>\n",
       "    </tr>\n",
       "    <tr>\n",
       "      <th>3</th>\n",
       "      <td>YES</td>\n",
       "      <td>Single</td>\n",
       "      <td>50190</td>\n",
       "      <td>193264</td>\n",
       "      <td>15</td>\n",
       "      <td>YES</td>\n",
       "      <td>Good</td>\n",
       "    </tr>\n",
       "    <tr>\n",
       "      <th>4</th>\n",
       "      <td>NO</td>\n",
       "      <td>Married</td>\n",
       "      <td>81002</td>\n",
       "      <td>27533</td>\n",
       "      <td>28</td>\n",
       "      <td>NO</td>\n",
       "      <td>Good</td>\n",
       "    </tr>\n",
       "  </tbody>\n",
       "</table>\n",
       "</div>"
      ],
      "text/plain": [
       "  Undergrad Marital.Status  Taxable.Income  City.Population  Work.Experience  \\\n",
       "0        NO         Single           68833            50047               10   \n",
       "1       YES       Divorced           33700           134075               18   \n",
       "2        NO        Married           36925           160205               30   \n",
       "3       YES         Single           50190           193264               15   \n",
       "4        NO        Married           81002            27533               28   \n",
       "\n",
       "  Urban     y  \n",
       "0   YES  Good  \n",
       "1   YES  Good  \n",
       "2   YES  Good  \n",
       "3   YES  Good  \n",
       "4    NO  Good  "
      ]
     },
     "execution_count": 7,
     "metadata": {},
     "output_type": "execute_result"
    }
   ],
   "source": [
    "data1.head()"
   ]
  },
  {
   "cell_type": "code",
   "execution_count": 8,
   "id": "708cf6f0",
   "metadata": {},
   "outputs": [
    {
     "data": {
      "text/plain": [
       "array(['Good', 'Risky'], dtype=object)"
      ]
     },
     "execution_count": 8,
     "metadata": {},
     "output_type": "execute_result"
    }
   ],
   "source": [
    "data1.y.unique()"
   ]
  },
  {
   "cell_type": "code",
   "execution_count": 9,
   "id": "1b3cbbe9",
   "metadata": {},
   "outputs": [
    {
     "data": {
      "text/plain": [
       "Undergrad          0\n",
       "Marital.Status     0\n",
       "Taxable.Income     0\n",
       "City.Population    0\n",
       "Work.Experience    0\n",
       "Urban              0\n",
       "y                  0\n",
       "dtype: int64"
      ]
     },
     "execution_count": 9,
     "metadata": {},
     "output_type": "execute_result"
    }
   ],
   "source": [
    "data1.isnull().sum()"
   ]
  },
  {
   "cell_type": "code",
   "execution_count": 10,
   "id": "7d6525ec",
   "metadata": {},
   "outputs": [
    {
     "data": {
      "text/plain": [
       "Undergrad          object\n",
       "Marital.Status     object\n",
       "Taxable.Income      int64\n",
       "City.Population     int64\n",
       "Work.Experience     int64\n",
       "Urban              object\n",
       "y                  object\n",
       "dtype: object"
      ]
     },
     "execution_count": 10,
     "metadata": {},
     "output_type": "execute_result"
    }
   ],
   "source": [
    "data1.dtypes"
   ]
  },
  {
   "cell_type": "code",
   "execution_count": 11,
   "id": "78edca24",
   "metadata": {},
   "outputs": [],
   "source": [
    "from sklearn.preprocessing import LabelEncoder"
   ]
  },
  {
   "cell_type": "code",
   "execution_count": 12,
   "id": "dc12e4ab",
   "metadata": {},
   "outputs": [],
   "source": [
    "le = LabelEncoder()\n",
    "data1['Encoded y'] = le.fit_transform(data1['y'])"
   ]
  },
  {
   "cell_type": "code",
   "execution_count": 13,
   "id": "befff3bd",
   "metadata": {},
   "outputs": [
    {
     "data": {
      "text/html": [
       "<div>\n",
       "<style scoped>\n",
       "    .dataframe tbody tr th:only-of-type {\n",
       "        vertical-align: middle;\n",
       "    }\n",
       "\n",
       "    .dataframe tbody tr th {\n",
       "        vertical-align: top;\n",
       "    }\n",
       "\n",
       "    .dataframe thead th {\n",
       "        text-align: right;\n",
       "    }\n",
       "</style>\n",
       "<table border=\"1\" class=\"dataframe\">\n",
       "  <thead>\n",
       "    <tr style=\"text-align: right;\">\n",
       "      <th></th>\n",
       "      <th>Undergrad</th>\n",
       "      <th>Marital.Status</th>\n",
       "      <th>Taxable.Income</th>\n",
       "      <th>City.Population</th>\n",
       "      <th>Work.Experience</th>\n",
       "      <th>Urban</th>\n",
       "      <th>y</th>\n",
       "      <th>Encoded y</th>\n",
       "    </tr>\n",
       "  </thead>\n",
       "  <tbody>\n",
       "    <tr>\n",
       "      <th>0</th>\n",
       "      <td>NO</td>\n",
       "      <td>Single</td>\n",
       "      <td>68833</td>\n",
       "      <td>50047</td>\n",
       "      <td>10</td>\n",
       "      <td>YES</td>\n",
       "      <td>Good</td>\n",
       "      <td>0</td>\n",
       "    </tr>\n",
       "    <tr>\n",
       "      <th>1</th>\n",
       "      <td>YES</td>\n",
       "      <td>Divorced</td>\n",
       "      <td>33700</td>\n",
       "      <td>134075</td>\n",
       "      <td>18</td>\n",
       "      <td>YES</td>\n",
       "      <td>Good</td>\n",
       "      <td>0</td>\n",
       "    </tr>\n",
       "    <tr>\n",
       "      <th>2</th>\n",
       "      <td>NO</td>\n",
       "      <td>Married</td>\n",
       "      <td>36925</td>\n",
       "      <td>160205</td>\n",
       "      <td>30</td>\n",
       "      <td>YES</td>\n",
       "      <td>Good</td>\n",
       "      <td>0</td>\n",
       "    </tr>\n",
       "    <tr>\n",
       "      <th>3</th>\n",
       "      <td>YES</td>\n",
       "      <td>Single</td>\n",
       "      <td>50190</td>\n",
       "      <td>193264</td>\n",
       "      <td>15</td>\n",
       "      <td>YES</td>\n",
       "      <td>Good</td>\n",
       "      <td>0</td>\n",
       "    </tr>\n",
       "    <tr>\n",
       "      <th>4</th>\n",
       "      <td>NO</td>\n",
       "      <td>Married</td>\n",
       "      <td>81002</td>\n",
       "      <td>27533</td>\n",
       "      <td>28</td>\n",
       "      <td>NO</td>\n",
       "      <td>Good</td>\n",
       "      <td>0</td>\n",
       "    </tr>\n",
       "  </tbody>\n",
       "</table>\n",
       "</div>"
      ],
      "text/plain": [
       "  Undergrad Marital.Status  Taxable.Income  City.Population  Work.Experience  \\\n",
       "0        NO         Single           68833            50047               10   \n",
       "1       YES       Divorced           33700           134075               18   \n",
       "2        NO        Married           36925           160205               30   \n",
       "3       YES         Single           50190           193264               15   \n",
       "4        NO        Married           81002            27533               28   \n",
       "\n",
       "  Urban     y  Encoded y  \n",
       "0   YES  Good          0  \n",
       "1   YES  Good          0  \n",
       "2   YES  Good          0  \n",
       "3   YES  Good          0  \n",
       "4    NO  Good          0  "
      ]
     },
     "execution_count": 13,
     "metadata": {},
     "output_type": "execute_result"
    }
   ],
   "source": [
    "data1.head()"
   ]
  },
  {
   "cell_type": "code",
   "execution_count": 14,
   "id": "042af970",
   "metadata": {},
   "outputs": [],
   "source": [
    "data1.drop(labels=['Taxable.Income','y'],axis=1,inplace=True)"
   ]
  },
  {
   "cell_type": "code",
   "execution_count": 15,
   "id": "8fa957b1",
   "metadata": {},
   "outputs": [],
   "source": [
    "data1['Undergrad'] = le.fit_transform(data1['Undergrad'])\n",
    "data1['Marital.Status'] = le.fit_transform(data1['Marital.Status'])\n",
    "data1['Urban'] = le.fit_transform(data1['Urban'])"
   ]
  },
  {
   "cell_type": "code",
   "execution_count": 16,
   "id": "e5ff3503",
   "metadata": {},
   "outputs": [
    {
     "data": {
      "text/html": [
       "<div>\n",
       "<style scoped>\n",
       "    .dataframe tbody tr th:only-of-type {\n",
       "        vertical-align: middle;\n",
       "    }\n",
       "\n",
       "    .dataframe tbody tr th {\n",
       "        vertical-align: top;\n",
       "    }\n",
       "\n",
       "    .dataframe thead th {\n",
       "        text-align: right;\n",
       "    }\n",
       "</style>\n",
       "<table border=\"1\" class=\"dataframe\">\n",
       "  <thead>\n",
       "    <tr style=\"text-align: right;\">\n",
       "      <th></th>\n",
       "      <th>Undergrad</th>\n",
       "      <th>Marital.Status</th>\n",
       "      <th>City.Population</th>\n",
       "      <th>Work.Experience</th>\n",
       "      <th>Urban</th>\n",
       "      <th>Encoded y</th>\n",
       "    </tr>\n",
       "  </thead>\n",
       "  <tbody>\n",
       "    <tr>\n",
       "      <th>0</th>\n",
       "      <td>0</td>\n",
       "      <td>2</td>\n",
       "      <td>50047</td>\n",
       "      <td>10</td>\n",
       "      <td>1</td>\n",
       "      <td>0</td>\n",
       "    </tr>\n",
       "    <tr>\n",
       "      <th>1</th>\n",
       "      <td>1</td>\n",
       "      <td>0</td>\n",
       "      <td>134075</td>\n",
       "      <td>18</td>\n",
       "      <td>1</td>\n",
       "      <td>0</td>\n",
       "    </tr>\n",
       "    <tr>\n",
       "      <th>2</th>\n",
       "      <td>0</td>\n",
       "      <td>1</td>\n",
       "      <td>160205</td>\n",
       "      <td>30</td>\n",
       "      <td>1</td>\n",
       "      <td>0</td>\n",
       "    </tr>\n",
       "    <tr>\n",
       "      <th>3</th>\n",
       "      <td>1</td>\n",
       "      <td>2</td>\n",
       "      <td>193264</td>\n",
       "      <td>15</td>\n",
       "      <td>1</td>\n",
       "      <td>0</td>\n",
       "    </tr>\n",
       "    <tr>\n",
       "      <th>4</th>\n",
       "      <td>0</td>\n",
       "      <td>1</td>\n",
       "      <td>27533</td>\n",
       "      <td>28</td>\n",
       "      <td>0</td>\n",
       "      <td>0</td>\n",
       "    </tr>\n",
       "  </tbody>\n",
       "</table>\n",
       "</div>"
      ],
      "text/plain": [
       "   Undergrad  Marital.Status  City.Population  Work.Experience  Urban  \\\n",
       "0          0               2            50047               10      1   \n",
       "1          1               0           134075               18      1   \n",
       "2          0               1           160205               30      1   \n",
       "3          1               2           193264               15      1   \n",
       "4          0               1            27533               28      0   \n",
       "\n",
       "   Encoded y  \n",
       "0          0  \n",
       "1          0  \n",
       "2          0  \n",
       "3          0  \n",
       "4          0  "
      ]
     },
     "execution_count": 16,
     "metadata": {},
     "output_type": "execute_result"
    }
   ],
   "source": [
    "data1.head()"
   ]
  },
  {
   "cell_type": "code",
   "execution_count": 17,
   "id": "78420d49",
   "metadata": {},
   "outputs": [
    {
     "data": {
      "text/plain": [
       "array([0, 1])"
      ]
     },
     "execution_count": 17,
     "metadata": {},
     "output_type": "execute_result"
    }
   ],
   "source": [
    "data1['Encoded y'].unique()"
   ]
  },
  {
   "cell_type": "code",
   "execution_count": 18,
   "id": "b32cf721",
   "metadata": {},
   "outputs": [
    {
     "data": {
      "text/plain": [
       "array([0, 1])"
      ]
     },
     "execution_count": 18,
     "metadata": {},
     "output_type": "execute_result"
    }
   ],
   "source": [
    "data1['Undergrad'].unique()"
   ]
  },
  {
   "cell_type": "code",
   "execution_count": 19,
   "id": "6c6a1328",
   "metadata": {},
   "outputs": [
    {
     "data": {
      "text/plain": [
       "array([2, 0, 1])"
      ]
     },
     "execution_count": 19,
     "metadata": {},
     "output_type": "execute_result"
    }
   ],
   "source": [
    "data1['Marital.Status'].unique()"
   ]
  },
  {
   "cell_type": "code",
   "execution_count": 20,
   "id": "35b2bcc9",
   "metadata": {},
   "outputs": [
    {
     "data": {
      "text/plain": [
       "array([1, 0])"
      ]
     },
     "execution_count": 20,
     "metadata": {},
     "output_type": "execute_result"
    }
   ],
   "source": [
    "data1['Urban'].unique()"
   ]
  },
  {
   "cell_type": "markdown",
   "id": "6bf11d77",
   "metadata": {},
   "source": [
    "## 5. Model Building"
   ]
  },
  {
   "cell_type": "code",
   "execution_count": 21,
   "id": "529b6885",
   "metadata": {},
   "outputs": [],
   "source": [
    "from sklearn.model_selection import train_test_split"
   ]
  },
  {
   "cell_type": "code",
   "execution_count": 22,
   "id": "bcb58fae",
   "metadata": {},
   "outputs": [],
   "source": [
    "X = data1.drop('Encoded y',axis= 1)\n",
    "Y = data1[['Encoded y']]"
   ]
  },
  {
   "cell_type": "code",
   "execution_count": 23,
   "id": "db54cc27",
   "metadata": {},
   "outputs": [],
   "source": [
    "X_train,X_test,Y_train,Y_test = train_test_split(X,Y,test_size = 0.20,random_state = 12)"
   ]
  },
  {
   "cell_type": "code",
   "execution_count": 24,
   "id": "704495c6",
   "metadata": {},
   "outputs": [
    {
     "name": "stdout",
     "output_type": "stream",
     "text": [
      "(480, 5) (480, 1)\n"
     ]
    }
   ],
   "source": [
    "print(X_train.shape,Y_train.shape)"
   ]
  },
  {
   "cell_type": "code",
   "execution_count": 25,
   "id": "4cfc6b61",
   "metadata": {},
   "outputs": [
    {
     "name": "stdout",
     "output_type": "stream",
     "text": [
      "(120, 5) (120, 1)\n"
     ]
    }
   ],
   "source": [
    "print(X_test.shape,Y_test.shape)"
   ]
  },
  {
   "cell_type": "markdown",
   "id": "45cef426",
   "metadata": {},
   "source": [
    "## 6. Model Training"
   ]
  },
  {
   "cell_type": "code",
   "execution_count": 26,
   "id": "4c7da033",
   "metadata": {},
   "outputs": [],
   "source": [
    "from sklearn.tree import DecisionTreeClassifier"
   ]
  },
  {
   "cell_type": "code",
   "execution_count": 27,
   "id": "83d4e891",
   "metadata": {},
   "outputs": [],
   "source": [
    "dt_model = DecisionTreeClassifier(criterion='entropy',max_depth=9,min_samples_split=2)"
   ]
  },
  {
   "cell_type": "code",
   "execution_count": 28,
   "id": "20ac97ad",
   "metadata": {},
   "outputs": [
    {
     "data": {
      "text/plain": [
       "DecisionTreeClassifier(criterion='entropy', max_depth=9)"
      ]
     },
     "execution_count": 28,
     "metadata": {},
     "output_type": "execute_result"
    }
   ],
   "source": [
    "dt_model.fit(X_train,Y_train)"
   ]
  },
  {
   "cell_type": "markdown",
   "id": "39379ee6",
   "metadata": {},
   "source": [
    "## 7. Model Testing"
   ]
  },
  {
   "cell_type": "code",
   "execution_count": 29,
   "id": "6f5edd12",
   "metadata": {},
   "outputs": [
    {
     "data": {
      "text/plain": [
       "array([0, 0, 0, 0, 0, 0, 0, 0, 0, 0, 0, 0, 0, 1, 0, 0, 0, 0, 0, 0, 0, 0,\n",
       "       0, 0, 0, 1, 0, 0, 0, 0, 0, 0, 0, 1, 0, 0, 0, 0, 0, 0, 0, 0, 0, 0,\n",
       "       0, 0, 0, 0, 0, 0, 0, 0, 0, 0, 0, 0, 0, 0, 0, 0, 0, 0, 0, 0, 0, 0,\n",
       "       0, 0, 0, 0, 0, 0, 0, 0, 0, 0, 0, 0, 0, 1, 0, 0, 0, 0, 0, 0, 0, 0,\n",
       "       0, 0, 0, 0, 0, 0, 0, 0, 1, 0, 0, 0, 0, 0, 0, 0, 0, 0, 0, 0, 0, 0,\n",
       "       0, 0, 0, 0, 0, 0, 0, 0, 0, 0, 0, 0, 0, 0, 1, 0, 0, 0, 1, 0, 0, 0,\n",
       "       0, 0, 0, 0, 0, 0, 0, 0, 0, 0, 0, 0, 0, 0, 0, 0, 0, 0, 0, 0, 0, 0,\n",
       "       0, 0, 0, 0, 0, 0, 0, 0, 0, 0, 1, 0, 0, 0, 0, 0, 0, 0, 0, 0, 0, 0,\n",
       "       0, 0, 0, 0, 1, 0, 0, 0, 0, 0, 0, 0, 0, 0, 0, 1, 0, 0, 0, 0, 0, 0,\n",
       "       0, 0, 0, 0, 0, 0, 0, 0, 0, 0, 0, 0, 0, 1, 0, 0, 0, 0, 0, 0, 0, 0,\n",
       "       0, 0, 0, 0, 0, 0, 0, 0, 0, 0, 0, 0, 0, 0, 1, 0, 0, 0, 0, 0, 1, 0,\n",
       "       0, 0, 1, 0, 0, 0, 1, 0, 1, 0, 0, 0, 1, 0, 0, 0, 0, 0, 0, 0, 0, 0,\n",
       "       0, 0, 1, 0, 0, 1, 0, 0, 0, 0, 0, 0, 1, 0, 0, 0, 0, 0, 0, 0, 0, 0,\n",
       "       1, 0, 0, 0, 0, 0, 0, 0, 0, 0, 0, 0, 0, 0, 0, 0, 0, 0, 0, 0, 0, 0,\n",
       "       1, 0, 0, 0, 0, 0, 0, 0, 0, 0, 0, 0, 0, 0, 0, 1, 0, 0, 0, 0, 0, 0,\n",
       "       0, 0, 1, 0, 0, 0, 0, 0, 0, 1, 0, 0, 0, 0, 0, 0, 0, 0, 0, 0, 0, 0,\n",
       "       0, 0, 0, 0, 0, 0, 0, 1, 0, 0, 0, 0, 0, 0, 0, 0, 0, 1, 0, 0, 0, 0,\n",
       "       0, 1, 0, 0, 0, 0, 0, 0, 1, 0, 0, 0, 0, 0, 0, 0, 0, 0, 0, 0, 1, 0,\n",
       "       0, 0, 0, 0, 0, 0, 0, 0, 0, 0, 0, 0, 0, 0, 0, 0, 0, 0, 0, 0, 0, 0,\n",
       "       1, 0, 0, 0, 0, 0, 0, 0, 0, 0, 0, 0, 0, 0, 0, 0, 0, 0, 0, 0, 0, 0,\n",
       "       0, 0, 0, 0, 0, 0, 0, 0, 0, 1, 0, 0, 0, 0, 0, 0, 0, 0, 0, 0, 0, 0,\n",
       "       1, 0, 0, 0, 0, 0, 0, 0, 0, 0, 0, 0, 0, 0, 1, 1, 0, 0])"
      ]
     },
     "execution_count": 29,
     "metadata": {},
     "output_type": "execute_result"
    }
   ],
   "source": [
    "y_pred_train = dt_model.predict(X_train)\n",
    "y_pred_train"
   ]
  },
  {
   "cell_type": "code",
   "execution_count": 30,
   "id": "700f54e7",
   "metadata": {},
   "outputs": [
    {
     "data": {
      "text/plain": [
       "array([0, 0, 0, 0, 0, 0, 0, 0, 0, 0, 0, 0, 0, 0, 0, 0, 0, 0, 1, 0, 0, 0,\n",
       "       0, 0, 0, 0, 0, 0, 0, 0, 0, 0, 0, 0, 0, 0, 0, 0, 1, 0, 0, 0, 0, 0,\n",
       "       0, 0, 0, 1, 0, 0, 0, 0, 1, 0, 0, 0, 0, 0, 0, 0, 0, 0, 0, 0, 1, 1,\n",
       "       0, 0, 0, 0, 0, 0, 0, 0, 0, 0, 0, 0, 0, 0, 0, 0, 1, 0, 0, 0, 0, 0,\n",
       "       0, 0, 0, 0, 0, 0, 0, 0, 0, 0, 1, 0, 0, 0, 0, 0, 0, 0, 0, 1, 0, 0,\n",
       "       0, 0, 0, 0, 0, 0, 0, 0, 0, 0])"
      ]
     },
     "execution_count": 30,
     "metadata": {},
     "output_type": "execute_result"
    }
   ],
   "source": [
    "y_pred_test = dt_model.predict(X_test)\n",
    "y_pred_test"
   ]
  },
  {
   "cell_type": "code",
   "execution_count": 31,
   "id": "1b0e8a9c",
   "metadata": {},
   "outputs": [],
   "source": [
    "from sklearn.tree import plot_tree"
   ]
  },
  {
   "cell_type": "code",
   "execution_count": 32,
   "id": "45c21091",
   "metadata": {},
   "outputs": [
    {
     "data": {
      "text/plain": [
       "[Text(194.65116279069767, 206.56799999999998, 'X[3] <= 24.5\\nentropy = 0.78\\nsamples = 480\\nvalue = [369, 111]'),\n",
       " Text(132.36279069767443, 184.824, 'X[2] <= 183724.5\\nentropy = 0.821\\nsamples = 371\\nvalue = [276, 95]'),\n",
       " Text(77.86046511627907, 163.07999999999998, 'X[2] <= 177829.0\\nentropy = 0.801\\nsamples = 345\\nvalue = [261, 84]'),\n",
       " Text(70.07441860465116, 141.336, 'X[3] <= 13.5\\nentropy = 0.816\\nsamples = 332\\nvalue = [248, 84]'),\n",
       " Text(38.93023255813954, 119.592, 'X[2] <= 26849.0\\nentropy = 0.748\\nsamples = 192\\nvalue = [151, 41]'),\n",
       " Text(31.144186046511628, 97.848, 'entropy = 0.0\\nsamples = 1\\nvalue = [0, 1]'),\n",
       " Text(46.71627906976744, 97.848, 'X[2] <= 176958.0\\nentropy = 0.74\\nsamples = 191\\nvalue = [151, 40]'),\n",
       " Text(38.93023255813954, 76.10399999999998, 'X[2] <= 163624.0\\nentropy = 0.732\\nsamples = 190\\nvalue = [151, 39]'),\n",
       " Text(31.144186046511628, 54.360000000000014, 'X[2] <= 157360.0\\nentropy = 0.754\\nsamples = 180\\nvalue = [141, 39]'),\n",
       " Text(15.572093023255814, 32.615999999999985, 'X[2] <= 154035.5\\nentropy = 0.733\\nsamples = 175\\nvalue = [139, 36]'),\n",
       " Text(7.786046511627907, 10.872000000000014, 'entropy = 0.75\\nsamples = 168\\nvalue = [132, 36]'),\n",
       " Text(23.35813953488372, 10.872000000000014, 'entropy = 0.0\\nsamples = 7\\nvalue = [7, 0]'),\n",
       " Text(46.71627906976744, 32.615999999999985, 'X[3] <= 5.5\\nentropy = 0.971\\nsamples = 5\\nvalue = [2, 3]'),\n",
       " Text(38.93023255813954, 10.872000000000014, 'entropy = 0.0\\nsamples = 2\\nvalue = [2, 0]'),\n",
       " Text(54.50232558139535, 10.872000000000014, 'entropy = 0.0\\nsamples = 3\\nvalue = [0, 3]'),\n",
       " Text(46.71627906976744, 54.360000000000014, 'entropy = 0.0\\nsamples = 10\\nvalue = [10, 0]'),\n",
       " Text(54.50232558139535, 76.10399999999998, 'entropy = 0.0\\nsamples = 1\\nvalue = [0, 1]'),\n",
       " Text(101.21860465116279, 119.592, 'X[2] <= 37812.5\\nentropy = 0.89\\nsamples = 140\\nvalue = [97, 43]'),\n",
       " Text(85.64651162790697, 97.848, 'X[2] <= 36940.0\\nentropy = 1.0\\nsamples = 14\\nvalue = [7, 7]'),\n",
       " Text(77.86046511627907, 76.10399999999998, 'X[3] <= 17.5\\nentropy = 0.98\\nsamples = 12\\nvalue = [7, 5]'),\n",
       " Text(70.07441860465116, 54.360000000000014, 'entropy = 0.0\\nsamples = 3\\nvalue = [3, 0]'),\n",
       " Text(85.64651162790697, 54.360000000000014, 'X[2] <= 35194.5\\nentropy = 0.991\\nsamples = 9\\nvalue = [4, 5]'),\n",
       " Text(77.86046511627907, 32.615999999999985, 'X[1] <= 0.5\\nentropy = 0.985\\nsamples = 7\\nvalue = [4, 3]'),\n",
       " Text(70.07441860465116, 10.872000000000014, 'entropy = 0.0\\nsamples = 2\\nvalue = [2, 0]'),\n",
       " Text(85.64651162790697, 10.872000000000014, 'entropy = 0.971\\nsamples = 5\\nvalue = [2, 3]'),\n",
       " Text(93.43255813953488, 32.615999999999985, 'entropy = 0.0\\nsamples = 2\\nvalue = [0, 2]'),\n",
       " Text(93.43255813953488, 76.10399999999998, 'entropy = 0.0\\nsamples = 2\\nvalue = [0, 2]'),\n",
       " Text(116.79069767441861, 97.848, 'X[2] <= 52792.5\\nentropy = 0.863\\nsamples = 126\\nvalue = [90, 36]'),\n",
       " Text(109.0046511627907, 76.10399999999998, 'entropy = 0.0\\nsamples = 13\\nvalue = [13, 0]'),\n",
       " Text(124.57674418604651, 76.10399999999998, 'X[2] <= 54275.0\\nentropy = 0.903\\nsamples = 113\\nvalue = [77, 36]'),\n",
       " Text(116.79069767441861, 54.360000000000014, 'entropy = 0.0\\nsamples = 2\\nvalue = [0, 2]'),\n",
       " Text(132.36279069767443, 54.360000000000014, 'X[3] <= 20.5\\nentropy = 0.889\\nsamples = 111\\nvalue = [77, 34]'),\n",
       " Text(116.79069767441861, 32.615999999999985, 'X[2] <= 175236.5\\nentropy = 0.94\\nsamples = 70\\nvalue = [45, 25]'),\n",
       " Text(109.0046511627907, 10.872000000000014, 'entropy = 0.923\\nsamples = 68\\nvalue = [45, 23]'),\n",
       " Text(124.57674418604651, 10.872000000000014, 'entropy = 0.0\\nsamples = 2\\nvalue = [0, 2]'),\n",
       " Text(147.93488372093023, 32.615999999999985, 'X[2] <= 93616.0\\nentropy = 0.759\\nsamples = 41\\nvalue = [32, 9]'),\n",
       " Text(140.14883720930231, 10.872000000000014, 'entropy = 0.323\\nsamples = 17\\nvalue = [16, 1]'),\n",
       " Text(155.72093023255815, 10.872000000000014, 'entropy = 0.918\\nsamples = 24\\nvalue = [16, 8]'),\n",
       " Text(85.64651162790697, 141.336, 'entropy = 0.0\\nsamples = 13\\nvalue = [13, 0]'),\n",
       " Text(186.86511627906975, 163.07999999999998, 'X[3] <= 11.5\\nentropy = 0.983\\nsamples = 26\\nvalue = [15, 11]'),\n",
       " Text(171.29302325581395, 141.336, 'X[2] <= 189255.0\\nentropy = 0.845\\nsamples = 11\\nvalue = [3, 8]'),\n",
       " Text(163.50697674418603, 119.592, 'entropy = 0.0\\nsamples = 3\\nvalue = [0, 3]'),\n",
       " Text(179.07906976744187, 119.592, 'X[2] <= 197925.0\\nentropy = 0.954\\nsamples = 8\\nvalue = [3, 5]'),\n",
       " Text(171.29302325581395, 97.848, 'X[1] <= 1.5\\nentropy = 1.0\\nsamples = 6\\nvalue = [3, 3]'),\n",
       " Text(163.50697674418603, 76.10399999999998, 'X[3] <= 2.5\\nentropy = 0.971\\nsamples = 5\\nvalue = [2, 3]'),\n",
       " Text(155.72093023255815, 54.360000000000014, 'entropy = 0.0\\nsamples = 1\\nvalue = [1, 0]'),\n",
       " Text(171.29302325581395, 54.360000000000014, 'X[3] <= 9.0\\nentropy = 0.811\\nsamples = 4\\nvalue = [1, 3]'),\n",
       " Text(163.50697674418603, 32.615999999999985, 'entropy = 0.0\\nsamples = 3\\nvalue = [0, 3]'),\n",
       " Text(179.07906976744187, 32.615999999999985, 'entropy = 0.0\\nsamples = 1\\nvalue = [1, 0]'),\n",
       " Text(179.07906976744187, 76.10399999999998, 'entropy = 0.0\\nsamples = 1\\nvalue = [1, 0]'),\n",
       " Text(186.86511627906975, 97.848, 'entropy = 0.0\\nsamples = 2\\nvalue = [0, 2]'),\n",
       " Text(202.43720930232558, 141.336, 'X[3] <= 20.0\\nentropy = 0.722\\nsamples = 15\\nvalue = [12, 3]'),\n",
       " Text(194.65116279069767, 119.592, 'entropy = 0.0\\nsamples = 10\\nvalue = [10, 0]'),\n",
       " Text(210.2232558139535, 119.592, 'X[2] <= 193407.5\\nentropy = 0.971\\nsamples = 5\\nvalue = [2, 3]'),\n",
       " Text(202.43720930232558, 97.848, 'entropy = 0.0\\nsamples = 3\\nvalue = [0, 3]'),\n",
       " Text(218.0093023255814, 97.848, 'entropy = 0.0\\nsamples = 2\\nvalue = [2, 0]'),\n",
       " Text(256.9395348837209, 184.824, 'X[3] <= 26.5\\nentropy = 0.602\\nsamples = 109\\nvalue = [93, 16]'),\n",
       " Text(241.3674418604651, 163.07999999999998, 'X[2] <= 84816.0\\nentropy = 0.191\\nsamples = 34\\nvalue = [33, 1]'),\n",
       " Text(233.58139534883722, 141.336, 'X[2] <= 77914.0\\nentropy = 0.371\\nsamples = 14\\nvalue = [13, 1]'),\n",
       " Text(225.7953488372093, 119.592, 'entropy = 0.0\\nsamples = 13\\nvalue = [13, 0]'),\n",
       " Text(241.3674418604651, 119.592, 'entropy = 0.0\\nsamples = 1\\nvalue = [0, 1]'),\n",
       " Text(249.15348837209302, 141.336, 'entropy = 0.0\\nsamples = 20\\nvalue = [20, 0]'),\n",
       " Text(272.51162790697674, 163.07999999999998, 'X[2] <= 34266.5\\nentropy = 0.722\\nsamples = 75\\nvalue = [60, 15]'),\n",
       " Text(264.72558139534885, 141.336, 'entropy = 0.0\\nsamples = 6\\nvalue = [6, 0]'),\n",
       " Text(280.29767441860463, 141.336, 'X[2] <= 35706.0\\nentropy = 0.755\\nsamples = 69\\nvalue = [54, 15]'),\n",
       " Text(272.51162790697674, 119.592, 'entropy = 0.0\\nsamples = 1\\nvalue = [0, 1]'),\n",
       " Text(288.0837209302326, 119.592, 'X[2] <= 44828.0\\nentropy = 0.734\\nsamples = 68\\nvalue = [54, 14]'),\n",
       " Text(280.29767441860463, 97.848, 'entropy = 0.0\\nsamples = 5\\nvalue = [5, 0]'),\n",
       " Text(295.86976744186046, 97.848, 'X[2] <= 46841.0\\nentropy = 0.764\\nsamples = 63\\nvalue = [49, 14]'),\n",
       " Text(288.0837209302326, 76.10399999999998, 'entropy = 0.0\\nsamples = 1\\nvalue = [0, 1]'),\n",
       " Text(303.65581395348835, 76.10399999999998, 'X[2] <= 62560.5\\nentropy = 0.741\\nsamples = 62\\nvalue = [49, 13]'),\n",
       " Text(295.86976744186046, 54.360000000000014, 'entropy = 0.0\\nsamples = 6\\nvalue = [6, 0]'),\n",
       " Text(311.4418604651163, 54.360000000000014, 'X[2] <= 73153.5\\nentropy = 0.782\\nsamples = 56\\nvalue = [43, 13]'),\n",
       " Text(303.65581395348835, 32.615999999999985, 'entropy = 0.0\\nsamples = 3\\nvalue = [0, 3]'),\n",
       " Text(319.2279069767442, 32.615999999999985, 'X[2] <= 79888.0\\nentropy = 0.699\\nsamples = 53\\nvalue = [43, 10]'),\n",
       " Text(311.4418604651163, 10.872000000000014, 'entropy = 0.0\\nsamples = 4\\nvalue = [4, 0]'),\n",
       " Text(327.01395348837207, 10.872000000000014, 'entropy = 0.73\\nsamples = 49\\nvalue = [39, 10]')]"
      ]
     },
     "execution_count": 32,
     "metadata": {},
     "output_type": "execute_result"
    },
    {
     "data": {
      "image/png": "[encoded data removed]",
      "text/plain": [
       "<Figure size 432x288 with 1 Axes>"
      ]
     },
     "metadata": {
      "needs_background": "light"
     },
     "output_type": "display_data"
    }
   ],
   "source": [
    "plot_tree(dt_model,rounded=True,filled=True)"
   ]
  },
  {
   "cell_type": "markdown",
   "id": "35d4a747",
   "metadata": {},
   "source": [
    "## 8. Model Evaluation"
   ]
  },
  {
   "cell_type": "code",
   "execution_count": 33,
   "id": "78880656",
   "metadata": {},
   "outputs": [],
   "source": [
    "from sklearn.metrics import accuracy_score as ac"
   ]
  },
  {
   "cell_type": "code",
   "execution_count": 34,
   "id": "b122a2bd",
   "metadata": {},
   "outputs": [
    {
     "data": {
      "text/plain": [
       "0.8333333333333334"
      ]
     },
     "execution_count": 34,
     "metadata": {},
     "output_type": "execute_result"
    }
   ],
   "source": [
    "ac(Y_train,y_pred_train)"
   ]
  },
  {
   "cell_type": "code",
   "execution_count": 35,
   "id": "7b5a57cc",
   "metadata": {},
   "outputs": [
    {
     "data": {
      "text/plain": [
       "0.8166666666666667"
      ]
     },
     "execution_count": 35,
     "metadata": {},
     "output_type": "execute_result"
    }
   ],
   "source": [
    "ac(Y_test,y_pred_test)"
   ]
  },
  {
   "cell_type": "markdown",
   "id": "dde229e6",
   "metadata": {},
   "source": [
    "## Note:\n",
    "\n",
    "* When I used max_depth as 'None',there was overfitting problem as the training accuracy was higher but the testing accuracy was very low\n",
    "* To overcome this problem,i used prunning so that training accuracy can be almost similar to testing accuracy"
   ]
  },
  {
   "cell_type": "code",
   "execution_count": 36,
   "id": "f9e8cf16",
   "metadata": {},
   "outputs": [],
   "source": [
    "from sklearn.metrics import confusion_matrix\n",
    "from sklearn.metrics import classification_report"
   ]
  },
  {
   "cell_type": "code",
   "execution_count": 37,
   "id": "e3bf2910",
   "metadata": {},
   "outputs": [
    {
     "data": {
      "text/plain": [
       "array([[367,   2],\n",
       "       [ 78,  33]], dtype=int64)"
      ]
     },
     "execution_count": 37,
     "metadata": {},
     "output_type": "execute_result"
    }
   ],
   "source": [
    "confusion_matrix(Y_train,y_pred_train)"
   ]
  },
  {
   "cell_type": "code",
   "execution_count": 38,
   "id": "02142707",
   "metadata": {},
   "outputs": [
    {
     "data": {
      "text/plain": [
       "array([[98,  9],\n",
       "       [13,  0]], dtype=int64)"
      ]
     },
     "execution_count": 38,
     "metadata": {},
     "output_type": "execute_result"
    }
   ],
   "source": [
    "confusion_matrix(Y_test,y_pred_test)"
   ]
  },
  {
   "cell_type": "code",
   "execution_count": 39,
   "id": "f79d0ead",
   "metadata": {},
   "outputs": [
    {
     "name": "stdout",
     "output_type": "stream",
     "text": [
      "              precision    recall  f1-score   support\n",
      "\n",
      "           0       0.82      0.99      0.90       369\n",
      "           1       0.94      0.30      0.45       111\n",
      "\n",
      "    accuracy                           0.83       480\n",
      "   macro avg       0.88      0.65      0.68       480\n",
      "weighted avg       0.85      0.83      0.80       480\n",
      "\n"
     ]
    }
   ],
   "source": [
    "print(classification_report(Y_train,y_pred_train))"
   ]
  }
 ],
 "metadata": {
  "kernelspec": {
   "display_name": "Python 3",
   "language": "python",
   "name": "python3"
  },
  "language_info": {
   "codemirror_mode": {
    "name": "ipython",
    "version": 3
   },
   "file_extension": ".py",
   "mimetype": "text/x-python",
   "name": "python",
   "nbconvert_exporter": "python",
   "pygments_lexer": "ipython3",
   "version": "3.8.8"
  }
 },
 "nbformat": 4,
 "nbformat_minor": 5
}
